{
  "nbformat": 4,
  "nbformat_minor": 0,
  "metadata": {
    "colab": {
      "provenance": []
    },
    "kernelspec": {
      "name": "python3",
      "display_name": "Python 3"
    },
    "language_info": {
      "name": "python"
    }
  },
  "cells": [
    {
      "cell_type": "markdown",
      "source": [
        "# Install rdkit\n",
        "\n",
        "using pypi or whatever install rdkit\n"
      ],
      "metadata": {
        "id": "VrUQnEXXvf2o"
      }
    },
    {
      "cell_type": "code",
      "source": [
        "import rdkit\n",
        "from rdkit.Chem import AllChem\n",
        "from rdkit import Chem\n",
        "from rdkit.Chem import AllChem\n",
        "import numpy as np\n",
        "from rdkit.ML.Descriptors import MoleculeDescriptors\n",
        "import pandas as pd\n",
        "import matplotlib.pyplot as plt\n",
        "from sklearn.preprocessing import MinMaxScaler\n",
        "from sklearn.linear_model import LinearRegression\n",
        "from sklearn.metrics import mean_squared_error"
      ],
      "metadata": {
        "id": "Aysr2FgenkbL"
      },
      "execution_count": 1,
      "outputs": []
    },
    {
      "cell_type": "code",
      "metadata": {
        "id": "9qJCFDsxp3wJ",
        "colab": {
          "base_uri": "https://localhost:8080/"
        },
        "outputId": "e5fc6f5d-8fc6-40f6-bbb4-517befb891a1"
      },
      "source": [
        "!pip install rdkit"
      ],
      "execution_count": 2,
      "outputs": [
        {
          "output_type": "stream",
          "name": "stdout",
          "text": [
            "Requirement already satisfied: rdkit in /usr/local/lib/python3.10/dist-packages (2024.9.4)\n",
            "Requirement already satisfied: numpy in /usr/local/lib/python3.10/dist-packages (from rdkit) (1.26.4)\n",
            "Requirement already satisfied: Pillow in /usr/local/lib/python3.10/dist-packages (from rdkit) (11.0.0)\n"
          ]
        }
      ]
    },
    {
      "cell_type": "markdown",
      "metadata": {
        "id": "TYs-WClCqSsy"
      },
      "source": [
        "## Ex 1. Read molecules from SMILES\n",
        "\n",
        "SMILES (Simplified Molecular-Input Line-Entry System) is a popular method for specifying molecules with text string. The RDkit library provides utilities to read molecules from SMILES.\n",
        "\n",
        "\n",
        "Paracetamol (Acetaminophen) is a commonly used medicine that can help treat pain and reduce a high temperature. It's given by the chemical formula $ C_8H_9N O_2$ and its SMILES is \"CC(=O)NC1=CC=C(O)C=C1\".\n",
        "\n",
        "\n",
        "1. Create the paracetamol molecule from its SMILES using the rdkit.Chem.MolFromSmiles class.\n",
        "\n",
        "\n",
        "2. Visualize its structure (it's sufficient to print the paracetamol molecule or to use rdkit.Chem.Draw.MolToImage())\n",
        "\n",
        "\n",
        "3. Print out the number of atoms. Did you get 11 ? It should be 20 atoms ? Why ?\n",
        "\n",
        "\n",
        "\n",
        "4. Print out the list of atoms.\n",
        "\n",
        "\n",
        "5. Find the number of bonds.\n",
        "\n"
      ]
    },
    {
      "cell_type": "code",
      "metadata": {
        "id": "ccbbFmLOqDJV",
        "colab": {
          "base_uri": "https://localhost:8080/"
        },
        "outputId": "6dc542a3-dd23-4ecf-c9c5-d3738dfe0c5c"
      },
      "source": [
        "p = \"CC(=O)NC1=CC=C(O)C=C1\"\n",
        "paracetamol_mol = rdkit.Chem.MolFromSmiles(p)\n",
        "img = rdkit.Chem.Draw.MolToImage(paracetamol_mol)\n",
        "img.show()\n",
        "print(paracetamol_mol.GetNumAtoms())\n",
        "\n",
        "for atom in paracetamol_mol.GetAtoms():\n",
        "  print(atom.GetSymbol())\n",
        "print(paracetamol_mol.GetNumBonds())"
      ],
      "execution_count": 3,
      "outputs": [
        {
          "output_type": "stream",
          "name": "stdout",
          "text": [
            "11\n",
            "C\n",
            "C\n",
            "O\n",
            "N\n",
            "C\n",
            "C\n",
            "C\n",
            "C\n",
            "O\n",
            "C\n",
            "C\n",
            "11\n"
          ]
        }
      ]
    },
    {
      "cell_type": "markdown",
      "source": [
        "It's because there are 11 atoms defined on the string. It take not into account the Hydrogen atoms"
      ],
      "metadata": {
        "id": "dwEnzBGMZ3kc"
      }
    },
    {
      "cell_type": "markdown",
      "metadata": {
        "id": "5ch4vabFuReu"
      },
      "source": [
        "## Ex 2 Read data from chemical file format\n",
        "\n",
        "Apart SMILES, .SDF/ .Mol are also the common formats to save molecules. RDKit provides also functionalities to read these files.\n",
        "\n",
        "\n",
        "Morphine is an opioid agonist used for the relief of moderate to severe acute and chronic pain. The chemical information of this drug can be found at\n",
        "the following url: https://go.drugbank.com/structures/small_molecule_drugs/DB00295.sdf\n",
        "\n",
        "\n",
        "1. Download this file and save it in a folder.\n",
        "\n",
        "\n",
        "2. Read the morphine molecule from the file that you've downloaded using \"rdkit.Chem.SDMolSupplier\"\n",
        "\n",
        "\n",
        "3. With the help of rdkit.Chem.AllChem.GetMorganFingerprintAsBitVect, compute its fingerprint as a bit vector."
      ]
    },
    {
      "cell_type": "code",
      "metadata": {
        "id": "9VLF599Yv5V1",
        "colab": {
          "base_uri": "https://localhost:8080/"
        },
        "outputId": "2eac888d-428d-4fc2-b036-9a4f43a11e02"
      },
      "source": [
        "!wget https://go.drugbank.com/structures/small_molecule_drugs/DB00295.sdf\n",
        "\n",
        "\n",
        "molec = rdkit.Chem.SDMolSupplier(\"DB00295.sdf\")\n",
        "morphine = next(molec)\n",
        "fingerprint = AllChem.GetMorganFingerprintAsBitVect(morphine, 2, nBits=1024)\n",
        "print(fingerprint)"
      ],
      "execution_count": 4,
      "outputs": [
        {
          "output_type": "stream",
          "name": "stdout",
          "text": [
            "--2025-01-08 16:03:17--  https://go.drugbank.com/structures/small_molecule_drugs/DB00295.sdf\n",
            "Resolving go.drugbank.com (go.drugbank.com)... 172.66.42.250, 172.66.41.6, 2606:4700:3108::ac42:2afa, ...\n",
            "Connecting to go.drugbank.com (go.drugbank.com)|172.66.42.250|:443... connected.\n",
            "HTTP request sent, awaiting response... 403 Forbidden\n",
            "2025-01-08 16:03:17 ERROR 403: Forbidden.\n",
            "\n",
            "<rdkit.DataStructs.cDataStructs.ExplicitBitVect object at 0x7b3f5a1e3370>\n"
          ]
        },
        {
          "output_type": "stream",
          "name": "stderr",
          "text": [
            "[16:03:17] DEPRECATION WARNING: please use MorganGenerator\n"
          ]
        }
      ]
    },
    {
      "cell_type": "markdown",
      "metadata": {
        "id": "gljbmF6p3RX8"
      },
      "source": [
        "## EX3. Fingerprints\n",
        "\n",
        "\n",
        "A chemical structure can be characterized by a set of numerical values known as molecular fingerprints. They may be 2D Fragment-based fingerprints presented by bit arrays of 0s and 1s wherein each bit position indicates the presence or absence of structural fragments.\n",
        "\n",
        "\n",
        "The RDKit has a variety of built-in functionality for generating molecular fingerprints and then using them to calculate molecular similarity. In this exercise, we will generate the fingerprints for parcetamol and aspirin that are two popular drugs used for pains.\n",
        "\n",
        "\n",
        "\n",
        "1. Compute the fingerprint of the paracetamol as bit vector by using the rdkit.AllChem.GetMorganFingerprintAsBitVectCompute Class. Convert it to a numpy vector. Known that Paracetamol's SMILES is \"\"CC(=O)OC1=CC=CC=C1C(O)=O\". Choose the number of bits nBits= 1024. Find the elements that are nonzero of the vector.\n",
        "\n",
        "2. Do the same thing for the aspirin. Aspirin's SMILES is \"CC(=O)NC1=CC=C(O)C=C1\".\n",
        "\n",
        "\n",
        "\n",
        "3. Using rdkit.DataStructs.DiceSimilarity(), compute the DiceSimilarity between the fingerprints of the paracetamol and the aspirin."
      ]
    },
    {
      "cell_type": "code",
      "metadata": {
        "id": "8PALjOz5232Z",
        "colab": {
          "base_uri": "https://localhost:8080/"
        },
        "outputId": "38fbd318-b50b-470c-eb24-551808838ec4"
      },
      "source": [
        "\n",
        "para = \"CC(=O)OC1=CC=CC=C1C(O)=O\"\n",
        "aspi = \"CC(=O)NC1=CC=C(O)C=C1\"\n",
        "\n",
        "paracetamol = Chem.MolFromSmiles(para)\n",
        "fingerprint = AllChem.GetMorganFingerprintAsBitVect(paracetamol, 2, nBits=1024)\n",
        "vect = np.array(fingerprint)\n",
        "nonzero = np.nonzero(vect)[0]\n",
        "print(nonzero)\n",
        "\n",
        "\n",
        "aspirin = Chem.MolFromSmiles(aspi)\n",
        "fingerprint2 = AllChem.GetMorganFingerprintAsBitVect(aspirin, 2, nBits=1024)\n",
        "vect2 = np.array(fingerprint2)\n",
        "nonzero2 = np.nonzero(vect2)[0]\n",
        "print(nonzero2)\n",
        "\n",
        "simi = rdkit.DataStructs.DiceSimilarity(fingerprint, fingerprint2)\n",
        "print(simi)"
      ],
      "execution_count": 5,
      "outputs": [
        {
          "output_type": "stream",
          "name": "stdout",
          "text": [
            "[  11   23   33   64  175  356  386  389  423  444  456  592  650  695\n",
            "  705  726  751  807  849  893  909  946  967 1017]\n",
            "[  33   53  128  191  245  289  356  530  578  650  726  745  754  792\n",
            "  807  843  849  893 1017]\n",
            "0.37209302325581395\n"
          ]
        },
        {
          "output_type": "stream",
          "name": "stderr",
          "text": [
            "[16:03:17] DEPRECATION WARNING: please use MorganGenerator\n",
            "[16:03:17] DEPRECATION WARNING: please use MorganGenerator\n"
          ]
        }
      ]
    },
    {
      "cell_type": "markdown",
      "metadata": {
        "id": "GZXsjZGw3ofC"
      },
      "source": [
        "## EX 4: Descriptors\n",
        "\n",
        "Molecules are also described by a set of physiochemical descriptors. They should be the log partition coefficient, the polar surface area ... that describe the molecule's structure.\n",
        "\n",
        "\n",
        "RDKit provides utilities that allow us to compute descriptor of molecules.\n",
        "Using the rdkit.ML.Descriptors.MoleculeDescriptors.MolecularDescriptorCalculator class, compute the descriptor for paracetamol molecule from SMILES string. Note that SMILES string for paracetamol is \"CC(=O)NC1=CC=C(O)C=C1\"\n",
        "\n"
      ]
    },
    {
      "cell_type": "code",
      "metadata": {
        "id": "vQcACF5K3l1y",
        "colab": {
          "base_uri": "https://localhost:8080/"
        },
        "outputId": "f254920d-ccd6-46e8-e4fc-9c65e6cc515f"
      },
      "source": [
        "parace = \"CC(=O)NC1=CC=C(O)C=C1\"\n",
        "\n",
        "paracetamol = Chem.MolFromSmiles(parace)\n",
        "desc = MoleculeDescriptors.MolecularDescriptorCalculator([x[0] for x in Chem.Descriptors._descList])\n",
        "descriptor = desc.CalcDescriptors(paracetamol)\n",
        "\n",
        "print(descriptor)"
      ],
      "execution_count": 6,
      "outputs": [
        {
          "output_type": "stream",
          "name": "stdout",
          "text": [
            "(10.524468537414966, 10.524468537414966, 0.11510204081632636, -0.11510204081632636, 0.5950261967780849, 9.181818181818182, 151.165, 142.093, 151.063328528, 58, 0, 0.22074743631242583, -0.5079643157925783, 0.5079643157925783, 0.22074743631242583, 1.3636363636363635, 1.9090909090909092, 2.3636363636363638, 16.25468871437965, 10.280190859964755, 1.9280360590359866, -1.9945540738765895, 2.12524757916018, -2.04401131261029, 5.88095478459792, -0.11373578338266109, 1.9291266251851134, 2.7362980721056545, 253.29949758389105, 8.267584713501616, 6.164862962722325, 6.164862962722325, 5.1815405503520555, 3.2490981480278296, 3.2490981480278296, 2.228060242189872, 2.228060242189872, 1.1876733148984595, 1.1876733148984595, 0.7480265991539318, 0.7480265991539318, -1.5099999999999998, 285.51074052739676, 7.595374077976819, 3.0531381005525, 2.292303972882069, 64.66690538413799, 10.423315998847038, 5.749511833283905, 0.0, 5.907179729351506, 0.0, 0.0, 4.794537184071822, 0.0, 0.0, 0.0, 0.0, 24.26546827384644, 12.611123474374185, 0.0, 9.901064578912528, 11.594566004035068, 0.0, 0.0, 0.0, 6.923737199690624, 5.316788604006331, 24.26546827384644, 0.0, 5.749511833283905, 5.316788604006331, 5.687386274683562, 5.749511833283905, 0.0, 11.013707124192212, 4.794537184071822, 0.0, 6.923737199690624, 24.26546827384644, 0.0, 0.0, 0.0, 49.33, 0.0, 4.794537184071822, 0.0, 11.65669156263541, 5.687386274683562, 0.0, 19.056471336613843, 12.13273413692322, 0.0, 5.316788604006331, 5.106527394840706, 0.0, 0.0, 10.524468537414966, 11.460032596371882, 0.6900925925925929, 0.07851095993953194, 6.309537037037037, 0.0, 1.437358276643991, 0.0, 0.125, 11, 2, 3, 0, 0, 0, 1, 1, 0, 1, 0, 0, 2, 2, 3, 0, 1, 0, 0, 0, 0, 0, 2.1081569077654403, 1, 1.3505999999999998, 42.41050000000002, 0, 0, 0, 0, 0, 0, 0, 1, 0, 0, 1, 1, 0, 0, 0, 0, 1, 0, 0, 0, 0, 0, 0, 0, 0, 0, 0, 1, 0, 1, 0, 0, 0, 0, 1, 0, 0, 0, 0, 0, 0, 0, 0, 0, 0, 0, 0, 0, 0, 0, 0, 0, 0, 0, 0, 0, 0, 0, 0, 0, 0, 0, 0, 0, 0, 1, 1, 0, 0, 0, 0, 0, 0, 0, 0, 0, 0, 0, 0, 0, 0, 0, 0, 0, 0)\n"
          ]
        }
      ]
    },
    {
      "cell_type": "markdown",
      "metadata": {
        "id": "SvHtYagP31vo"
      },
      "source": [
        "## Ex5: SMART\n",
        "\n",
        "In many commonly used applications, we need to determine whether atoms in a molecule match a particular pattern. It can be used for filtering structures or identifying substructures that are associated with toxicological problem.\n",
        "\n",
        "SMART us an extension of the SMILES language that can be used to create queries.\n",
        "\n",
        "1. Find molecules in the following list named \"smiles_list\" that contain the \"CCC\" pattern (you can use the GetSubstructMatch class).\n",
        "\n",
        "\n",
        "2. Highlight the pattern \"CCC\" in these molecules.\n",
        "\n",
        "\n",
        "3. Do the same thing ex 1 but for the pattern \"C(=O)N\"."
      ]
    },
    {
      "cell_type": "code",
      "metadata": {
        "id": "mXqKwAO03xQi",
        "colab": {
          "base_uri": "https://localhost:8080/"
        },
        "outputId": "a80b5822-a0ad-4235-f5f9-7b4736d07d99"
      },
      "source": [
        "smiles_list = [\"CCO\", \"CCC\", \"CCCCC\", \"CCCCCC\", \"CC(C)CC\", \"CC(=O)NC1=CC=C(O)C=C1\", \"C1CCCCC1\", \"CCOC\", \"C=CC=C\", \"CC(=O)OCC\"]\n",
        "\n",
        "pattern = Chem.MolFromSmarts(\"CCC\")\n",
        "for i in smiles_list:\n",
        "  mol = Chem.MolFromSmiles(i)\n",
        "  if mol is not None:\n",
        "    if mol.HasSubstructMatch(pattern):\n",
        "      print(f\"The molecule {i} contains the 'CCC' patttern\")\n",
        "\n",
        "pattern2 = Chem.MolFromSmarts(\"C(=O)N\")\n",
        "for i in smiles_list:\n",
        "  mol = Chem.MolFromSmiles(i)\n",
        "  if mol is not None:\n",
        "    if mol.HasSubstructMatch(pattern2):\n",
        "      print(f\"The molecule {i} contains the 'C(=O)N' pattern\")\n",
        "\n"
      ],
      "execution_count": 7,
      "outputs": [
        {
          "output_type": "stream",
          "name": "stdout",
          "text": [
            "The molecule CCC contains the 'CCC' patttern\n",
            "The molecule CCCCC contains the 'CCC' patttern\n",
            "The molecule CCCCCC contains the 'CCC' patttern\n",
            "The molecule CC(C)CC contains the 'CCC' patttern\n",
            "The molecule C1CCCCC1 contains the 'CCC' patttern\n",
            "The molecule CC(=O)NC1=CC=C(O)C=C1 contains the 'C(=O)N' pattern\n"
          ]
        }
      ]
    },
    {
      "cell_type": "markdown",
      "metadata": {
        "id": "UxbRPmkS4LSq"
      },
      "source": [
        "## Ex6: Machine learning with RDkit - Predict solubility\n",
        "\n",
        "In this exercise, we will use machine learning to predict solubility of molecules. For this purpose, we will borrow a dataset from rdkit that is originated from the Huuskonen dataset. We will try to predict Aqueous Solubility for molecules that is known as \"logS\".\n",
        "\n",
        "\n",
        "This exercise is divided into 3 parts: Preparing a dataset, training a model and preparing dataset for prediction and applying a predictive model.\n",
        "\n"
      ]
    },
    {
      "cell_type": "markdown",
      "metadata": {
        "id": "FpqVGPg_4QaQ"
      },
      "source": [
        "## EX6.I Preparing dataset\n",
        "\n",
        "Preparing dataset requires a few steps:\n",
        "\n",
        "\n",
        "1. Download file from the following link: https://raw.githubusercontent.com/rdkit/rdkit/master/Docs/Book/data/solubility.train.sdf.\n",
        "\n",
        "\n",
        "2. With the help of rdkit.Chem.SDMolSupplier, get list of molecules contained in this file. You should call this list as **molecule_list**. The option **removeHs=False** should be chosen.\n",
        "\n",
        "\n",
        "3. Write a function named **calculate_descriptors(mol)** that allows us to calculate descriptors of a molecule. This function takes a Rdkit molecule as input and returns an array vector of descriptors.\n",
        "\n",
        "\n",
        "4. Apply the function **caluclate_descriptors** to the list of molecules **molecule_list** and store the result in a dataframe named **df**. Look at few rows of **df** to see whether the descriptors are calculated.\n",
        "\n",
        "\n",
        "5. For each molecule from this dataset, we can get the aqueous solubility (logS) via attribute **getProp('SOL')**. Create a list that contains the aqueous solubility of all molecules from the **molecule_list** list. You should call this list by **labels**. Remember to convert these values to float format.\n",
        "\n",
        "\n",
        "6. Plot the histogram of the \"labels\" list to see the distribution of the solubility of molecules. Do you have some comments about the aqueous solubility of molecules ?\n",
        "\n"
      ]
    },
    {
      "cell_type": "code",
      "metadata": {
        "colab": {
          "base_uri": "https://localhost:8080/",
          "height": 629
        },
        "id": "uAuDoU7u3_k4",
        "outputId": "6b805c0c-3f47-4b40-dd77-68dad8230978"
      },
      "source": [
        "!wget https://raw.githubusercontent.com/rdkit/rdkit/master/Docs/Book/data/solubility.train.sdf\n",
        "\n",
        "molecule_list = Chem.SDMolSupplier(\"solubility.train.sdf\", removeHs=False)\n",
        "\n",
        "def calculate_descriptors(mol):\n",
        "  desc = MoleculeDescriptors.MolecularDescriptorCalculator([x[0] for x in Chem.Descriptors._descList])\n",
        "  descriptor = desc.CalcDescriptors(mol)\n",
        "  return np.array(descriptor)\n",
        "\n",
        "\n",
        "\n",
        "df = pd.DataFrame(calculate_descriptors(mol) for mol in molecule_list)\n",
        "df.head(10)\n",
        "\n",
        "\n",
        "labels = [float(mol.GetProp(\"SOL\")) for mol in molecule_list]\n",
        "\n",
        "plt.hist(labels, bins=20)\n",
        "plt.xlabel(\"Solubility\")\n",
        "plt.ylabel(\"Frequence\")\n",
        "plt.show()"
      ],
      "execution_count": 8,
      "outputs": [
        {
          "output_type": "stream",
          "name": "stdout",
          "text": [
            "--2025-01-08 16:03:18--  https://raw.githubusercontent.com/rdkit/rdkit/master/Docs/Book/data/solubility.train.sdf\n",
            "Resolving raw.githubusercontent.com (raw.githubusercontent.com)... 185.199.108.133, 185.199.109.133, 185.199.110.133, ...\n",
            "Connecting to raw.githubusercontent.com (raw.githubusercontent.com)|185.199.108.133|:443... connected.\n",
            "HTTP request sent, awaiting response... 200 OK\n",
            "Length: 1376487 (1.3M) [text/plain]\n",
            "Saving to: ‘solubility.train.sdf.6’\n",
            "\n",
            "solubility.train.sd 100%[===================>]   1.31M  --.-KB/s    in 0.06s   \n",
            "\n",
            "2025-01-08 16:03:18 (20.4 MB/s) - ‘solubility.train.sdf.6’ saved [1376487/1376487]\n",
            "\n"
          ]
        },
        {
          "output_type": "display_data",
          "data": {
            "text/plain": [
              "<Figure size 640x480 with 1 Axes>"
            ],
            "image/png": "[encoded data removed]"
          },
          "metadata": {}
        }
      ]
    },
    {
      "cell_type": "markdown",
      "source": [
        "On constate qu'en moyenne un molécule à une solubilité de -2 logS. La courbe forme à peu près une distribution gaussienne centré en -2"
      ],
      "metadata": {
        "id": "QycC-mkUl9QC"
      }
    },
    {
      "cell_type": "markdown",
      "metadata": {
        "id": "KRtVHEjH5M9m"
      },
      "source": [
        "## Ex6.II Feature Engineering and Training a model of regression.\n",
        "\n",
        "Now, we have the **df** dataframe that contains the descriptors for molecules and the **labels** list that contains the solvant property of molecules.\n",
        "\n",
        "1. Check the dataframe **df** to see whether it contains NaN values. How many row contained NaN values are there in the dataframe **df** ? Remove these rows from  **df** and **labels**.\n",
        "\n",
        "\n",
        "2. Apply the MinMaxScaler to the dataframe **df** to normalize the data.\n",
        "\n",
        "\n",
        "3. Construct and train a regression model.\n",
        "\n",
        "\n",
        "4. Calculate the square root error for the dataset"
      ]
    },
    {
      "cell_type": "code",
      "metadata": {
        "id": "gWvfR-8x5H84",
        "colab": {
          "base_uri": "https://localhost:8080/"
        },
        "outputId": "4576a205-eb8d-4032-fa23-d3960014d7f1"
      },
      "source": [
        "\n",
        "print(\"Number of rows with NaN : \", df.isna().sum().sum())\n",
        "nan_val = df.isnull().sum()\n",
        "print(nan_val)\n",
        "df2 = df.dropna()\n",
        "\n",
        "labels = labels[:df2.shape[0]]\n",
        "scaler = MinMaxScaler()\n",
        "df2 = pd.DataFrame(scaler.fit_transform(df2), columns=df2.columns)\n",
        "model = LinearRegression()\n",
        "model.fit(df2, labels)\n",
        "\n",
        "y_pred = model.predict(df2)\n",
        "mse = mean_squared_error(labels, y_pred)\n",
        "rmse = np.sqrt(mse)\n",
        "print(rmse)"
      ],
      "execution_count": 9,
      "outputs": [
        {
          "output_type": "stream",
          "name": "stdout",
          "text": [
            "Number of rows with NaN :  12\n",
            "0      0\n",
            "1      0\n",
            "2      0\n",
            "3      0\n",
            "4      0\n",
            "      ..\n",
            "212    0\n",
            "213    0\n",
            "214    0\n",
            "215    0\n",
            "216    0\n",
            "Length: 217, dtype: int64\n",
            "0.5321804232503049\n"
          ]
        }
      ]
    },
    {
      "cell_type": "markdown",
      "metadata": {
        "id": "kESW-Pem5zPX"
      },
      "source": [
        "## Ex6.III Prepare data for test  and test model\n",
        "\n",
        "\n",
        "1. Download file from : https://github.com/rdkit/rdkit/blob/master/Docs/Book/data/solubility.test.sdf\n",
        "\n",
        "2. Read molecules from this file and store them in a list named **list_molecule_test**.\n",
        "\n",
        "\n",
        "3. Take a molecule from the **list_molecule_test** and then calculate its descriptions thank to the **calculate_descriptors(mol)** function that you've coded above.\n",
        "\n",
        "\n",
        "4. Apply **minmaxscaler** to these descriptors. Note that **minmaxscaler**  is one that you've created at Ex6.II.\n",
        "\n",
        "\n",
        "5. Use the model that you've trained to predict the aqueous solubility (logS) of the molecule. Compare to the real logS value of the molecule.\n",
        "\n",
        "6. (Optional) Calculate the mean square root error of the model for this dataset.\n",
        "\n",
        "\n",
        "\n",
        "Note: If there exists problem of reading the file solubility.test.sdf as\n",
        "\"RDKit ERROR: [09:28:36] ERROR: moving to the beginning of the next molecule\n",
        "RDKit ERROR: [09:32:48] ERROR: Counts line too short: '' on line4\"\n",
        "so, go to the url, click \"raw\" and save this file by hand. The error will be gone away\n"
      ]
    },
    {
      "cell_type": "code",
      "metadata": {
        "id": "SMo-oKP-Rhv-",
        "colab": {
          "base_uri": "https://localhost:8080/"
        },
        "outputId": "b0148181-6b1f-47dd-88b1-7f311e09bc37"
      },
      "source": [
        "!wget https://raw.githubusercontent.com/rdkit/rdkit/master/Docs/Book/data/solubility.test.sdf\n",
        "\n",
        "list_molecule_test = Chem.SDMolSupplier(\"solubility.test.sdf\", removeHs=False)\n",
        "list_molecule_test = [mol for mol in list_molecule_test if mol is not None]\n",
        "\n",
        "def predict_logs(mol, model, scaler):\n",
        "  description = calculate_descriptors(mol)\n",
        "  description = scaler.transform([description])\n",
        "  pred = model.predict(description)[0]\n",
        "  true_logs = float(mol.GetProp(\"SOL\"))\n",
        "  return pred, true_logs\n",
        "pred_logs = []\n",
        "true_logs = []\n",
        "for mol in list_molecule_test:\n",
        "  if mol is not None:\n",
        "    pred, true = predict_logs(mol, model, scaler)\n",
        "    pred_logs.append(pred)\n",
        "    true_logs.append(true)\n",
        "    print(f\"Predicted logS: {pred}, True logS: {true}\")\n",
        "\n",
        "\n",
        "\n",
        "rmse = np.sqrt(mean_squared_error(true_logs, pred_logs))\n",
        "print(rmse)"
      ],
      "execution_count": 10,
      "outputs": [
        {
          "output_type": "stream",
          "name": "stdout",
          "text": [
            "--2025-01-08 16:03:37--  https://raw.githubusercontent.com/rdkit/rdkit/master/Docs/Book/data/solubility.test.sdf\n",
            "Resolving raw.githubusercontent.com (raw.githubusercontent.com)... 185.199.111.133, 185.199.110.133, 185.199.109.133, ...\n",
            "Connecting to raw.githubusercontent.com (raw.githubusercontent.com)|185.199.111.133|:443... connected.\n",
            "HTTP request sent, awaiting response... 200 OK\n",
            "Length: 245735 (240K) [text/plain]\n",
            "Saving to: ‘solubility.test.sdf.5’\n",
            "\n",
            "solubility.test.sdf 100%[===================>] 239.98K  --.-KB/s    in 0.04s   \n",
            "\n",
            "2025-01-08 16:03:38 (6.48 MB/s) - ‘solubility.test.sdf.5’ saved [245735/245735]\n",
            "\n",
            "Predicted logS: -3.338370620857418, True logS: -3.68\n",
            "Predicted logS: -3.6891281920726726, True logS: -4.26\n",
            "Predicted logS: -2.6464062626677247, True logS: -2.68\n",
            "Predicted logS: -2.6494240387473553, True logS: -2.59\n",
            "Predicted logS: -1.5509569955322462, True logS: -2.09\n",
            "Predicted logS: -2.419007568193102, True logS: -2.15\n",
            "Predicted logS: -3.3448698004500486, True logS: -3.66\n",
            "Predicted logS: -3.1820170111141266, True logS: -2.77\n",
            "Predicted logS: -3.4476279624009294, True logS: -3.4\n",
            "Predicted logS: -3.5556926190615883, True logS: -3.04\n",
            "Predicted logS: -3.836727868807351, True logS: -4.12\n",
            "Predicted logS: -4.806102310310884, True logS: -5.21\n",
            "Predicted logS: -4.852355016399095, True logS: -4.62\n",
            "Predicted logS: -4.484893101469467, True logS: -4.17\n",
            "Predicted logS: -4.207810450339267, True logS: -4.29\n",
            "Predicted logS: -5.780327028112261, True logS: -6.35\n",
            "Predicted logS: -6.0102849995746155, True logS: -6.57\n",
            "Predicted logS: -7.5185583735070765, True logS: -8.6\n",
            "Predicted logS: -7.043297447171852, True logS: -8.06\n",
            "Predicted logS: -3.392491178803354, True logS: -2.68\n",
            "Predicted logS: -5.839240500073352, True logS: -6.2\n",
            "Predicted logS: -8.04986652016948, True logS: -7.92\n",
            "Predicted logS: -1.0518382753054496, True logS: -1.17\n",
            "Predicted logS: -1.9801746093037451, True logS: -2.31\n",
            "Predicted logS: -0.8879624790628498, True logS: -1.06\n",
            "Predicted logS: -1.987936080410421, True logS: -1.74\n",
            "Predicted logS: -1.3969456219770393, True logS: -1.47\n",
            "Predicted logS: -2.2992838641859734, True logS: -2.09\n",
            "Predicted logS: -2.2476388084834156, True logS: -2.15\n",
            "Predicted logS: -2.2901500129549177, True logS: -2.37\n",
            "Predicted logS: -2.09765172469735, True logS: -2.7\n",
            "Predicted logS: -2.4452072929188517, True logS: -2.89\n",
            "Predicted logS: -4.644496483924087, True logS: -5.06\n",
            "Predicted logS: -4.110720926125865, True logS: -4.43\n",
            "Predicted logS: -2.3818721675188925, True logS: -1.32\n",
            "Predicted logS: -6.675194849120928, True logS: -6.32\n",
            "Predicted logS: -4.850994573278015, True logS: -4.91\n",
            "Predicted logS: -2.6559546668146865, True logS: -2.55\n",
            "Predicted logS: -3.571460997226687, True logS: -3.19\n",
            "Predicted logS: -3.4231644150507634, True logS: -3.54\n",
            "Predicted logS: -4.464258183234136, True logS: -4.5\n",
            "Predicted logS: -5.187875927967966, True logS: -5.65\n",
            "Predicted logS: -1.4386094306103203, True logS: -2.0\n",
            "Predicted logS: -4.723741799789835, True logS: -5.2\n",
            "Predicted logS: -5.339293318802426, True logS: -5.28\n",
            "Predicted logS: -6.032938691165938, True logS: -6.02\n",
            "Predicted logS: -6.009310985903866, True logS: -6.29\n",
            "Predicted logS: -6.89190666045306, True logS: -7.16\n",
            "Predicted logS: -6.784929096547302, True logS: -6.8\n",
            "Predicted logS: -7.550855937325821, True logS: -7.91\n",
            "Predicted logS: -7.6991589129887785, True logS: -7.92\n",
            "Predicted logS: -8.229141918576161, True logS: -7.68\n",
            "Predicted logS: -8.236733098689626, True logS: -8.01\n",
            "Predicted logS: -9.437567042183517, True logS: -9.15\n",
            "Predicted logS: -6.567993334219111, True logS: -7.2\n",
            "Predicted logS: -4.667626441892793, True logS: -4.4\n",
            "Predicted logS: -0.4835382897175151, True logS: -0.29\n",
            "Predicted logS: -0.5937573838978096, True logS: -0.4\n",
            "Predicted logS: -0.8956559054068123, True logS: -0.39\n",
            "Predicted logS: -0.9373391032977025, True logS: -1.14\n",
            "Predicted logS: -0.9718655180791629, True logS: -0.62\n",
            "Predicted logS: -1.4899622352402702, True logS: -1.55\n",
            "Predicted logS: -1.2423328590871705, True logS: -1.6\n",
            "Predicted logS: -0.8753566192443145, True logS: -1.22\n",
            "Predicted logS: -0.929264625838087, True logS: -0.72\n",
            "Predicted logS: -1.3505760904830169, True logS: -1.6\n",
            "Predicted logS: -3.6106340651767823, True logS: -3.63\n",
            "Predicted logS: -0.9339662362222612, True logS: -1.2\n",
            "Predicted logS: -0.8032410828691638, True logS: 0.62\n",
            "Predicted logS: -0.8313213797540868, True logS: -0.68\n",
            "Predicted logS: -2.1359610729469267, True logS: -2.22\n",
            "Predicted logS: -2.377388256290608, True logS: -2.28\n",
            "Predicted logS: -0.3418029405725136, True logS: -0.01\n",
            "Predicted logS: -3.3774917776979336, True logS: -3.17\n",
            "Predicted logS: -0.3341252413905593, True logS: -0.1\n",
            "Predicted logS: -1.1629273857499243, True logS: -0.6\n",
            "Predicted logS: -3.027056567982683, True logS: -2.58\n",
            "Predicted logS: -0.897847895119881, True logS: -0.99\n",
            "Predicted logS: -3.2383215089067647, True logS: -3.12\n",
            "Predicted logS: 0.473892400662983, True logS: -0.2\n",
            "Predicted logS: -3.1918670157698656, True logS: -3.44\n",
            "Predicted logS: -1.4975991208029598, True logS: -2.14\n",
            "Predicted logS: -1.7938089679471574, True logS: -2.48\n",
            "Predicted logS: -2.506353733957681, True logS: -2.65\n",
            "Predicted logS: -3.150863811809913, True logS: -3.22\n",
            "Predicted logS: -5.055157629502858, True logS: -5.33\n",
            "Predicted logS: 0.4810892555330284, True logS: 0.15\n",
            "Predicted logS: -0.6045235285455703, True logS: -0.66\n",
            "Predicted logS: -1.0861742515273534, True logS: -1.28\n",
            "Predicted logS: -1.4550985978851827, True logS: -1.92\n",
            "Predicted logS: -2.1376458432714713, True logS: -2.31\n",
            "Predicted logS: -3.4831061142071675, True logS: -3.8\n",
            "Predicted logS: -1.6078621270199136, True logS: -1.85\n",
            "Predicted logS: -4.77614672149344, True logS: -4.4\n",
            "Predicted logS: -0.19440863881644077, True logS: -0.09\n",
            "Predicted logS: -0.5255848487636712, True logS: -0.24\n",
            "Predicted logS: -1.081391542652483, True logS: -1.34\n",
            "Predicted logS: -1.0719981184836485, True logS: -1.85\n",
            "Predicted logS: -2.038201549702194, True logS: -1.6\n",
            "Predicted logS: -0.7946347354629211, True logS: -0.42\n",
            "Predicted logS: -2.8124418211705944, True logS: -2.97\n",
            "Predicted logS: -3.2812627926727203, True logS: -4.37\n",
            "Predicted logS: -3.934620861748499, True logS: -3.75\n",
            "Predicted logS: -3.126061999045419, True logS: -3.43\n",
            "Predicted logS: -1.5246661712576213, True logS: -1.82\n",
            "Predicted logS: -1.7261221591770521, True logS: -2.35\n",
            "Predicted logS: -1.5198006506027895, True logS: -1.06\n",
            "Predicted logS: -3.034049097729202, True logS: -2.34\n",
            "Predicted logS: -2.154752469298657, True logS: -3.31\n",
            "Predicted logS: -6.310362579339298, True logS: -6.29\n",
            "Predicted logS: -1.776572818880318, True logS: -1.1\n",
            "Predicted logS: -2.9252606840388466, True logS: -2.75\n",
            "Predicted logS: -1.006432994907584, True logS: -1.28\n",
            "Predicted logS: -1.3838848602966465, True logS: -1.92\n",
            "Predicted logS: -2.2324225210316655, True logS: -1.92\n",
            "Predicted logS: -0.41972918796940917, True logS: 0.4\n",
            "Predicted logS: -1.8552608158001718, True logS: -1.45\n",
            "Predicted logS: -0.17333464291911582, True logS: -0.84\n",
            "Predicted logS: -0.09614871119291024, True logS: -1.28\n",
            "Predicted logS: -7.44054080557968, True logS: -0.17\n",
            "Predicted logS: -2.961131115682747, True logS: -3.18\n",
            "Predicted logS: -1.1959287867656911, True logS: -2.16\n",
            "Predicted logS: -1.794530857290269, True logS: -2.23\n",
            "Predicted logS: -2.1988074125858077, True logS: -2.12\n",
            "Predicted logS: -3.9642548831781212, True logS: -3.66\n",
            "Predicted logS: -2.324367850507656, True logS: -2.57\n",
            "Predicted logS: -4.170135455844971, True logS: -4.16\n",
            "Predicted logS: -1.4306770054267943, True logS: -2.36\n",
            "Predicted logS: -0.16189830467706656, True logS: 0.81\n",
            "Predicted logS: -1.7309824409199024, True logS: -2.21\n",
            "Predicted logS: -2.2245981340998284, True logS: -3.28\n",
            "Predicted logS: -5.367995803715758, True logS: -4.86\n",
            "Predicted logS: -5.217536596094945, True logS: -4.61\n",
            "Predicted logS: -2.6819401281374695, True logS: -2.41\n",
            "Predicted logS: -3.210686215041278, True logS: -2.09\n",
            "Predicted logS: -3.790969908145094, True logS: -2.32\n",
            "Predicted logS: -2.993682222977519, True logS: -2.62\n",
            "Predicted logS: -2.7715585357302714, True logS: -2.54\n",
            "Predicted logS: -2.8423820340344577, True logS: -2.43\n",
            "Predicted logS: -3.4527382863568903, True logS: -3.7\n",
            "Predicted logS: -3.4585326333551194, True logS: -1.35\n",
            "Predicted logS: -0.3546938821545922, True logS: -0.97\n",
            "Predicted logS: -2.882317270010475, True logS: -1.13\n",
            "Predicted logS: 0.22296386253562162, True logS: 1.07\n",
            "Predicted logS: 0.3582587861895661, True logS: -0.4\n",
            "Predicted logS: 0.9554659731059161, True logS: 1.0\n",
            "Predicted logS: -0.4535028828704242, True logS: -0.72\n",
            "Predicted logS: 0.011347423182414218, True logS: 0.85\n",
            "Predicted logS: -2.498551956747221, True logS: -3.28\n",
            "Predicted logS: 0.34610847130869615, True logS: 1.13\n",
            "Predicted logS: 0.4354903937381067, True logS: 0.96\n",
            "Predicted logS: -1.0683043821359348, True logS: -1.03\n",
            "Predicted logS: -0.8638939509824297, True logS: -0.62\n",
            "Predicted logS: -3.5285518458167076, True logS: -3.54\n",
            "Predicted logS: -2.3043653221508222, True logS: -2.8\n",
            "Predicted logS: -1.8362345845687926, True logS: -1.96\n",
            "Predicted logS: -1.3304170796605206, True logS: -1.37\n",
            "Predicted logS: -5.291971257550259, True logS: -5.64\n",
            "Predicted logS: -6.094606265177461, True logS: -4.44\n",
            "Predicted logS: -3.333602175059397, True logS: -3.0\n",
            "Predicted logS: -2.9821152326714184, True logS: -3.26\n",
            "Predicted logS: -1.7097789227804867, True logS: -0.6\n",
            "Predicted logS: -0.682609547466356, True logS: 0.32\n",
            "Predicted logS: -1.6179847233051774, True logS: -1.66\n",
            "Predicted logS: -1.7304751177816229, True logS: -0.22\n",
            "Predicted logS: -3.8824076925063764, True logS: -4.57\n",
            "Predicted logS: -4.353359280140211, True logS: -4.04\n",
            "Predicted logS: -6.205767952719839, True logS: -6.62\n",
            "Predicted logS: -3.807354761876624, True logS: -4.35\n",
            "Predicted logS: -0.37922091415330783, True logS: 0.74\n",
            "Predicted logS: -2.321493629356901, True logS: -2.84\n",
            "Predicted logS: -2.2692904334352946, True logS: -2.69\n",
            "Predicted logS: -3.519888451309356, True logS: -4.11\n",
            "Predicted logS: -3.534921093833148, True logS: -3.8\n",
            "Predicted logS: -4.107525675243409, True logS: -3.95\n",
            "Predicted logS: -2.8102929675531882, True logS: -2.75\n",
            "Predicted logS: -0.8283454389908158, True logS: -2.57\n",
            "Predicted logS: -3.2383240017791906, True logS: -4.08\n",
            "Predicted logS: -2.61710134900882, True logS: -2.72\n",
            "Predicted logS: -1.8492532341547303, True logS: -1.78\n",
            "Predicted logS: -3.4039545703369924, True logS: -3.26\n",
            "Predicted logS: -7.127816289637828, True logS: -7.11\n",
            "Predicted logS: -2.29776628702718, True logS: -1.4\n",
            "Predicted logS: -0.9080198636543031, True logS: -1.5\n",
            "Predicted logS: -1.860347965870588, True logS: -2.92\n",
            "Predicted logS: -4.2568740602910395, True logS: -4.02\n",
            "Predicted logS: -1.0861651076778074, True logS: -1.77\n",
            "Predicted logS: -3.6305421565004536, True logS: -3.46\n",
            "Predicted logS: -0.24879487262512612, True logS: -1.14\n",
            "Predicted logS: 0.3159786043521535, True logS: -0.74\n",
            "Predicted logS: -0.5670224942810336, True logS: 0.04\n",
            "Predicted logS: -0.3500384676058488, True logS: 1.02\n",
            "Predicted logS: -1.057850313941067, True logS: -1.26\n",
            "Predicted logS: 0.03290053055602016, True logS: 0.39\n",
            "Predicted logS: -2.0012839284566084, True logS: -2.36\n",
            "Predicted logS: -1.3655578202388199, True logS: -1.56\n",
            "Predicted logS: -3.8587022294530016, True logS: -3.9\n",
            "Predicted logS: -1.177071198768786, True logS: 0.49\n",
            "Predicted logS: -2.963931821831224, True logS: -3.27\n",
            "Predicted logS: -1.3033222006344118, True logS: -1.11\n",
            "Predicted logS: -1.5814719240436403, True logS: -1.55\n",
            "Predicted logS: -3.78671406027091, True logS: -2.15\n",
            "Predicted logS: -4.750314002337575, True logS: -5.43\n",
            "Predicted logS: -2.8313307619457575, True logS: -2.51\n",
            "Predicted logS: -1.2775770878788748, True logS: -2.34\n",
            "Predicted logS: -1.722421549394781, True logS: -2.88\n",
            "Predicted logS: -1.5921030110030046, True logS: -2.33\n",
            "Predicted logS: -0.6409779931541095, True logS: -1.12\n",
            "Predicted logS: -1.0777957218934873, True logS: -1.6\n",
            "Predicted logS: -4.22105833558161, True logS: -4.27\n",
            "Predicted logS: -1.8357209278439228, True logS: -2.61\n",
            "Predicted logS: -2.6209644326620563, True logS: -2.22\n",
            "Predicted logS: -1.9038070484785266, True logS: -2.41\n",
            "Predicted logS: -2.2829701465350354, True logS: -2.17\n",
            "Predicted logS: -2.720492212587196, True logS: -2.75\n",
            "Predicted logS: -1.9823648637740874, True logS: -2.87\n",
            "Predicted logS: -2.5344607548077107, True logS: -3.51\n",
            "Predicted logS: -2.0213992203779156, True logS: -1.91\n",
            "Predicted logS: -2.151230533498179, True logS: -1.99\n",
            "Predicted logS: -2.1792356608816092, True logS: -2.08\n",
            "Predicted logS: -2.2353324619777624, True logS: -1.85\n",
            "Predicted logS: -2.940312531104624, True logS: -2.49\n",
            "Predicted logS: -2.131226466241401, True logS: -1.94\n",
            "Predicted logS: -4.6804256411813725, True logS: -5.47\n",
            "Predicted logS: -1.4928098360755513, True logS: -1.2\n",
            "Predicted logS: -2.9119439878823243, True logS: -3.05\n",
            "Predicted logS: -3.0325653950323854, True logS: -3.02\n",
            "Predicted logS: -5.111692703916489, True logS: -5.03\n",
            "Predicted logS: -1.9122985035603506, True logS: -1.73\n",
            "Predicted logS: -10.181994596192336, True logS: -2.57\n",
            "Predicted logS: -2.532376821438433, True logS: -2.59\n",
            "Predicted logS: -5.052481305931721, True logS: -4.21\n",
            "Predicted logS: -5.595878929337701, True logS: -5.53\n",
            "Predicted logS: -3.0818904706371413, True logS: -4.16\n",
            "Predicted logS: -7.476953481280077, True logS: -6.62\n",
            "Predicted logS: -4.2658286510229075, True logS: -2.28\n",
            "Predicted logS: -3.459039843533901, True logS: -2.85\n",
            "Predicted logS: -4.343360639406541, True logS: -4.11\n",
            "Predicted logS: -2.8851816439096822, True logS: -2.64\n",
            "Predicted logS: -4.460117510878106, True logS: -3.08\n",
            "Predicted logS: -3.15551826345029, True logS: -3.59\n",
            "Predicted logS: -5.555105090891985, True logS: -5.69\n",
            "Predicted logS: -3.1031109530470147, True logS: -2.73\n",
            "Predicted logS: -3.804328742786808, True logS: -2.7\n",
            "Predicted logS: -5.032029033884498, True logS: -4.38\n",
            "Predicted logS: -2.3486159534308086, True logS: -2.6\n",
            "Predicted logS: -3.6301727810640045, True logS: -4.95\n",
            "Predicted logS: -4.279827582337944, True logS: -4.43\n",
            "Predicted logS: -3.7233918558927, True logS: -2.63\n",
            "Predicted logS: -5.6058584449719575, True logS: -5.41\n",
            "Predicted logS: -4.867454605227351, True logS: -4.4\n",
            "Predicted logS: -4.153999224083094, True logS: -3.8\n",
            "Predicted logS: -4.21798102853375, True logS: -5.66\n",
            "Predicted logS: -6.656098831000634, True logS: -3.66\n",
            "Predicted logS: 0.2130216073699529, True logS: -0.5\n",
            "Predicted logS: -6.326275450789652, True logS: -5.09\n",
            "Predicted logS: -5.976638475666107, True logS: -7.32\n",
            "0.9265624385872371\n"
          ]
        }
      ]
    }
  ]
}